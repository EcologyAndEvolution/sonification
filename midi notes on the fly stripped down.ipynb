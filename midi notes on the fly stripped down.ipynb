{
 "cells": [
  {
   "cell_type": "code",
   "execution_count": 1,
   "metadata": {
    "collapsed": true
   },
   "outputs": [],
   "source": [
    "from ipywidgets import FloatSlider\n",
    "slider = FloatSlider()\n",
    "slider"
   ]
  },
  {
   "cell_type": "code",
   "execution_count": 2,
   "metadata": {
    "collapsed": false
   },
   "outputs": [
    {
     "name": "stdout",
     "output_type": "stream",
     "text": [
      "0\n"
     ]
    }
   ],
   "source": [
    "tone=int(slider.value)\n",
    "print(tone)"
   ]
  },
  {
   "cell_type": "code",
   "execution_count": 3,
   "metadata": {
    "collapsed": true
   },
   "outputs": [],
   "source": [
    "import time\n",
    "import threading"
   ]
  },
  {
   "cell_type": "code",
   "execution_count": 4,
   "metadata": {
    "collapsed": true
   },
   "outputs": [],
   "source": [
    "import pygame\n",
    "import pygame.midi"
   ]
  },
  {
   "cell_type": "code",
   "execution_count": 5,
   "metadata": {
    "collapsed": false
   },
   "outputs": [],
   "source": [
    "pygame.midi.init()"
   ]
  },
  {
   "cell_type": "code",
   "execution_count": 6,
   "metadata": {
    "collapsed": false
   },
   "outputs": [],
   "source": [
    "#this is the line that sometimes won't run and requires re-starting the computer\n",
    "player = pygame.midi.Output(0)"
   ]
  },
  {
   "cell_type": "code",
   "execution_count": 7,
   "metadata": {
    "collapsed": false
   },
   "outputs": [],
   "source": [
    "#use this to turn everything off before making changes\n",
    "del player\n",
    "pygame.midi.quit()"
   ]
  },
  {
   "cell_type": "code",
   "execution_count": 8,
   "metadata": {
    "collapsed": false
   },
   "outputs": [],
   "source": [
    "#attempt to make volume of tone decrease when same year gets repeated\n",
    "import time\n",
    "import threading\n",
    "import pygame\n",
    "import pygame.midi\n",
    "pygame.midi.init()\n",
    "player = pygame.midi.Output(0)\n",
    "player.set_instrument(0)\n",
    "\n",
    "class MyThread2 (threading.Thread):\n",
    "    def run(self):\n",
    "        tone2=200\n",
    "        for i in range(200):\n",
    "            #print(slider.value)\n",
    "            #print('ok')\n",
    "            tone=int(slider.value)\n",
    "            #tone2=int(slider.value)\n",
    "            if tone != tone2:\n",
    "                player.note_on(tone, 127)\n",
    "                time.sleep(.6)\n",
    "                player.note_off(tone, 127)\n",
    "                time.sleep(.2)\n",
    "                tone2=int(slider.value)\n",
    "            if tone == tone2:\n",
    "                #tone=int(slider.value)\n",
    "                #for i in range(3):\n",
    "                player.note_on(tone, 50)\n",
    "                time.sleep(.6)\n",
    "                player.note_off(tone, 50)\n",
    "                time.sleep(.2)\n",
    "                #tone2=200\n",
    "                tone=int(slider.value)\n",
    "            #print(i)\n",
    "            if slider.value == 100:\n",
    "                break"
   ]
  },
  {
   "cell_type": "code",
   "execution_count": 20,
   "metadata": {
    "collapsed": false
   },
   "outputs": [],
   "source": [
    "#use this to turn everything off before making changes\n",
    "del player\n",
    "pygame.midi.quit()"
   ]
  },
  {
   "cell_type": "code",
   "execution_count": 9,
   "metadata": {
    "collapsed": false
   },
   "outputs": [],
   "source": [
    "from ipywidgets import FloatSlider\n",
    "slider = FloatSlider()\n",
    "slider"
   ]
  },
  {
   "cell_type": "code",
   "execution_count": 10,
   "metadata": {
    "collapsed": false
   },
   "outputs": [],
   "source": [
    "MyThread2().start()"
   ]
  },
  {
   "cell_type": "code",
   "execution_count": 8,
   "metadata": {
    "collapsed": true
   },
   "outputs": [],
   "source": [
    "#need to figure this array thing out\n",
    "#import data file, do conversions in python\n",
    "import csv\n",
    "with open('testarraytwoscenario.csv', 'r') as f:\n",
    "    reader = csv.reader(f)\n",
    "    test2 = list(reader)"
   ]
  },
  {
   "cell_type": "code",
   "execution_count": 9,
   "metadata": {
    "collapsed": true
   },
   "outputs": [],
   "source": [
    "#to convert entries from imported csv files to integers and floats\n",
    "years = [int(row[0]) for row in test2]\n",
    "notelow = [int(row[1]) for row in test2]\n",
    "notehigh = [int(row[2]) for row in test2]"
   ]
  },
  {
   "cell_type": "code",
   "execution_count": 13,
   "metadata": {
    "collapsed": false
   },
   "outputs": [
    {
     "name": "stdout",
     "output_type": "stream",
     "text": [
      "[2011, 2012, 2013, 2014, 2015, 2016, 2017, 2018, 2019, 2020, 2021]\n",
      "[50, 54, 58, 62, 66, 70, 74, 78, 82, 86, 90]\n",
      "[90, 93, 96, 99, 102, 105, 108, 111, 114, 117, 120]\n"
     ]
    }
   ],
   "source": [
    "print(years)\n",
    "print(notelow)\n",
    "print(notehigh)"
   ]
  },
  {
   "cell_type": "code",
   "execution_count": 10,
   "metadata": {
    "collapsed": false
   },
   "outputs": [
    {
     "name": "stdout",
     "output_type": "stream",
     "text": [
      "1\n"
     ]
    }
   ],
   "source": [
    "import random\n",
    "print(random.randrange(-2, 2))"
   ]
  },
  {
   "cell_type": "code",
   "execution_count": 90,
   "metadata": {
    "collapsed": false
   },
   "outputs": [],
   "source": [
    "#this is for two \"future scenarios\"\n",
    "import random\n",
    "import time\n",
    "import threading\n",
    "import pygame\n",
    "import pygame.midi\n",
    "pygame.midi.init()\n",
    "player = pygame.midi.Output(0)\n",
    "player.set_instrument(0)\n",
    "\n",
    "class MyThread (threading.Thread):\n",
    "    def run(self):\n",
    "        for i in range(200):\n",
    "            if slider1.value < 50.2:\n",
    "                #print(slider.value)\n",
    "                yearmid=int((slider2.value)/10)\n",
    "                #print(yearmid)\n",
    "                noteplay = notelow[yearmid] + random.randrange(-1,2)\n",
    "                #print(noteplay)\n",
    "                player.note_on(noteplay, 127)\n",
    "                time.sleep(.6)\n",
    "                player.note_off(noteplay, 127)\n",
    "                time.sleep(.2)\n",
    "                if slider2.value == 100:\n",
    "                    break\n",
    "            if slider1.value >= 50.2:\n",
    "                #print(slider.value)\n",
    "                yearmid=int((slider2.value)/10)\n",
    "                #print(yearmid)\n",
    "                noteplay = notehigh[yearmid] + random.randrange(-1,2)\n",
    "                #print(noteplay)\n",
    "                player.note_on(noteplay, 127)\n",
    "                time.sleep(.6)\n",
    "                player.note_off(noteplay, 127)\n",
    "                time.sleep(.2)\n",
    "                if slider2.value == 100:\n",
    "                    break"
   ]
  },
  {
   "cell_type": "code",
   "execution_count": 13,
   "metadata": {
    "collapsed": false
   },
   "outputs": [],
   "source": [
    "#use this to turn everything off before making changes\n",
    "del player\n",
    "pygame.midi.quit()"
   ]
  },
  {
   "cell_type": "code",
   "execution_count": 10,
   "metadata": {
    "collapsed": false
   },
   "outputs": [],
   "source": [
    "from IPython.display import display\n",
    "\n",
    "slider1 = FloatSlider(description=\"Y\", orientation=\"vertical\")\n",
    "slider2 = FloatSlider(description=\"X\", orientation=\"horizontal\")\n",
    "\n",
    "display(slider1)\n",
    "display(slider2)"
   ]
  },
  {
   "cell_type": "code",
   "execution_count": 15,
   "metadata": {
    "collapsed": false
   },
   "outputs": [],
   "source": [
    "MyThread().start()"
   ]
  },
  {
   "cell_type": "code",
   "execution_count": 14,
   "metadata": {
    "collapsed": false
   },
   "outputs": [],
   "source": [
    "#here's an attempt for three \"future scenarios\"\n",
    "import random\n",
    "import time\n",
    "import threading\n",
    "import pygame\n",
    "import pygame.midi\n",
    "pygame.midi.init()\n",
    "player = pygame.midi.Output(0)\n",
    "player.set_instrument(0)\n",
    "\n",
    "class MyThread (threading.Thread):\n",
    "    def run(self):\n",
    "        for i in range(200):\n",
    "            if 70 < slider1.value <= 100:\n",
    "                #print(slider.value)\n",
    "                yearmid=int((slider2.value)/10)\n",
    "                #print(yearmid)\n",
    "                noteplay = notehigh[yearmid] + random.randrange(-1,2)\n",
    "                #print(noteplay)\n",
    "                player.note_on(noteplay, 127)\n",
    "                time.sleep(.6)\n",
    "                player.note_off(noteplay, 127)\n",
    "                time.sleep(.2)\n",
    "                if slider2.value == 100:\n",
    "                    break\n",
    "            if 30 <= slider1.value <= 70:\n",
    "                #print(slider.value)\n",
    "                yearmid=int((slider2.value)/10)\n",
    "                #print(yearmid)\n",
    "                noteplay = int((notehigh[yearmid] + notelow[yearmid])/2) + random.randrange(-1,2)\n",
    "                #print(noteplay)\n",
    "                player.note_on(noteplay, 127)\n",
    "                time.sleep(.6)\n",
    "                player.note_off(noteplay, 127)\n",
    "                time.sleep(.2)\n",
    "                if slider2.value == 100:\n",
    "                    break\n",
    "            if 0 <= slider1.value <30:\n",
    "                #print(slider.value)\n",
    "                yearmid=int((slider2.value)/10)\n",
    "                #print(yearmid)\n",
    "                noteplay = notelow[yearmid] + random.randrange(-1,2)\n",
    "                #print(noteplay)\n",
    "                player.note_on(noteplay, 127)\n",
    "                time.sleep(.6)\n",
    "                player.note_off(noteplay, 127)\n",
    "                time.sleep(.2)\n",
    "                if slider2.value == 100:\n",
    "                    break"
   ]
  },
  {
   "cell_type": "code",
   "execution_count": null,
   "metadata": {
    "collapsed": true
   },
   "outputs": [],
   "source": []
  },
  {
   "cell_type": "code",
   "execution_count": null,
   "metadata": {
    "collapsed": true
   },
   "outputs": [],
   "source": []
  },
  {
   "cell_type": "code",
   "execution_count": 8,
   "metadata": {
    "collapsed": false
   },
   "outputs": [],
   "source": [
    "class MyThread (threading.Thread):\n",
    "    def run(self):\n",
    "        for i in range(100):\n",
    "            print(slider.value)\n",
    "            time.sleep(1)\n",
    "            if slider.value == 100:\n",
    "                break"
   ]
  },
  {
   "cell_type": "code",
   "execution_count": 5,
   "metadata": {
    "collapsed": false
   },
   "outputs": [
    {
     "name": "stdout",
     "output_type": "stream",
     "text": [
      "0.0\n",
      "0.0\n",
      "0.0\n"
     ]
    }
   ],
   "source": [
    "MyThread().start()"
   ]
  },
  {
   "cell_type": "code",
   "execution_count": 3,
   "metadata": {
    "collapsed": false
   },
   "outputs": [
    {
     "ename": "Exception",
     "evalue": "b\"PortMidi: `Invalid device ID'\"",
     "output_type": "error",
     "traceback": [
      "\u001b[1;31m---------------------------------------------------------------------------\u001b[0m",
      "\u001b[1;31mException\u001b[0m                                 Traceback (most recent call last)",
      "\u001b[1;32m<ipython-input-3-f5c7e22b522f>\u001b[0m in \u001b[0;36m<module>\u001b[1;34m()\u001b[0m\n\u001b[0;32m      4\u001b[0m \u001b[0mpygame\u001b[0m\u001b[1;33m.\u001b[0m\u001b[0mmidi\u001b[0m\u001b[1;33m.\u001b[0m\u001b[0minit\u001b[0m\u001b[1;33m(\u001b[0m\u001b[1;33m)\u001b[0m\u001b[1;33m\u001b[0m\u001b[0m\n\u001b[0;32m      5\u001b[0m \u001b[1;33m\u001b[0m\u001b[0m\n\u001b[1;32m----> 6\u001b[1;33m \u001b[0mplayer\u001b[0m \u001b[1;33m=\u001b[0m \u001b[0mpygame\u001b[0m\u001b[1;33m.\u001b[0m\u001b[0mmidi\u001b[0m\u001b[1;33m.\u001b[0m\u001b[0mOutput\u001b[0m\u001b[1;33m(\u001b[0m\u001b[1;36m0\u001b[0m\u001b[1;33m)\u001b[0m\u001b[1;33m\u001b[0m\u001b[0m\n\u001b[0m\u001b[0;32m      7\u001b[0m \u001b[0mplayer\u001b[0m\u001b[1;33m.\u001b[0m\u001b[0mset_instrument\u001b[0m\u001b[1;33m(\u001b[0m\u001b[1;36m80\u001b[0m\u001b[1;33m)\u001b[0m\u001b[1;33m\u001b[0m\u001b[0m\n\u001b[0;32m      8\u001b[0m \u001b[0mplayer\u001b[0m\u001b[1;33m.\u001b[0m\u001b[0mnote_on\u001b[0m\u001b[1;33m(\u001b[0m\u001b[0mmiddlec\u001b[0m\u001b[1;33m,\u001b[0m \u001b[1;36m127\u001b[0m\u001b[1;33m)\u001b[0m\u001b[1;33m\u001b[0m\u001b[0m\n",
      "\u001b[1;32mC:\\Anaconda3\\lib\\site-packages\\pygame\\midi.py\u001b[0m in \u001b[0;36m__init__\u001b[1;34m(self, device_id, latency, buffer_size)\u001b[0m\n\u001b[0;32m    402\u001b[0m             \u001b[1;32mif\u001b[0m \u001b[0moutput\u001b[0m\u001b[1;33m:\u001b[0m\u001b[1;33m\u001b[0m\u001b[0m\n\u001b[0;32m    403\u001b[0m                 \u001b[1;32mtry\u001b[0m\u001b[1;33m:\u001b[0m\u001b[1;33m\u001b[0m\u001b[0m\n\u001b[1;32m--> 404\u001b[1;33m                     \u001b[0mself\u001b[0m\u001b[1;33m.\u001b[0m\u001b[0m_output\u001b[0m \u001b[1;33m=\u001b[0m \u001b[0m_pypm\u001b[0m\u001b[1;33m.\u001b[0m\u001b[0mOutput\u001b[0m\u001b[1;33m(\u001b[0m\u001b[0mdevice_id\u001b[0m\u001b[1;33m,\u001b[0m \u001b[0mlatency\u001b[0m\u001b[1;33m)\u001b[0m\u001b[1;33m\u001b[0m\u001b[0m\n\u001b[0m\u001b[0;32m    405\u001b[0m                 \u001b[1;32mexcept\u001b[0m \u001b[0mTypeError\u001b[0m\u001b[1;33m:\u001b[0m\u001b[1;33m\u001b[0m\u001b[0m\n\u001b[0;32m    406\u001b[0m                     \u001b[1;32mraise\u001b[0m \u001b[0mTypeError\u001b[0m\u001b[1;33m(\u001b[0m\u001b[1;34m\"an integer is required\"\u001b[0m\u001b[1;33m)\u001b[0m\u001b[1;33m\u001b[0m\u001b[0m\n",
      "\u001b[1;32mpypm.pyx\u001b[0m in \u001b[0;36mpypm.Output.__init__ (src/pypm.c:1306)\u001b[1;34m()\u001b[0m\n",
      "\u001b[1;31mException\u001b[0m: b\"PortMidi: `Invalid device ID'\""
     ]
    }
   ],
   "source": [
    "#just some simple midi playing code\n",
    "import pygame\n",
    "import pygame.midi\n",
    "import time\n",
    "pygame.midi.init()\n",
    "\n",
    "player = pygame.midi.Output(0)\n",
    "player.set_instrument(80)\n",
    "player.note_on(middlec, 127)\n",
    "time.sleep(1)\n",
    "player.note_off(middlec, 127)\n",
    "time.sleep(.1)\n",
    "player.note_on(74, 127)\n",
    "time.sleep(1)\n",
    "player.note_off(74, 127)\n",
    "del player\n",
    "pygame.midi.quit()"
   ]
  },
  {
   "cell_type": "code",
   "execution_count": 7,
   "metadata": {
    "collapsed": true
   },
   "outputs": [],
   "source": [
    "import pygame\n",
    "import pygame.midi\n",
    "import time\n",
    "#pygame.init()\n",
    "pygame.midi.init()"
   ]
  },
  {
   "cell_type": "code",
   "execution_count": 8,
   "metadata": {
    "collapsed": true
   },
   "outputs": [],
   "source": [
    "middlec = 70"
   ]
  },
  {
   "cell_type": "code",
   "execution_count": 9,
   "metadata": {
    "collapsed": false
   },
   "outputs": [],
   "source": [
    "player = pygame.midi.Output(0)"
   ]
  },
  {
   "cell_type": "code",
   "execution_count": 10,
   "metadata": {
    "collapsed": true
   },
   "outputs": [],
   "source": [
    "player.set_instrument(80)"
   ]
  },
  {
   "cell_type": "code",
   "execution_count": 11,
   "metadata": {
    "collapsed": false
   },
   "outputs": [],
   "source": [
    "player.note_on(middlec, 127)\n",
    "time.sleep(1)\n",
    "player.note_off(middlec, 127)\n",
    "time.sleep(.1)\n",
    "player.note_on(74, 127)\n",
    "time.sleep(1)\n",
    "player.note_off(74, 127)\n",
    "#del player\n",
    "#pygame.midi.quit()"
   ]
  },
  {
   "cell_type": "code",
   "execution_count": null,
   "metadata": {
    "collapsed": true
   },
   "outputs": [],
   "source": []
  }
 ],
 "metadata": {
  "kernelspec": {
   "display_name": "Python 3",
   "language": "python",
   "name": "python3"
  },
  "language_info": {
   "codemirror_mode": {
    "name": "ipython",
    "version": 3
   },
   "file_extension": ".py",
   "mimetype": "text/x-python",
   "name": "python",
   "nbconvert_exporter": "python",
   "pygments_lexer": "ipython3",
   "version": "3.4.3"
  },
  "widgets": {
   "state": {
    "2ad5ef8f1bf842c6bc7c93e63c567c1c": {
     "views": [
      {
       "cell_index": 17
      }
     ]
    },
    "31202c87994e47f89d71fef3b77f5e34": {
     "views": []
    },
    "69c5a134b2e642b5ac25dce4e723a87b": {
     "views": []
    },
    "b39e7a36469a40adb4c1c80defa0861b": {
     "views": [
      {
       "cell_index": 0
      }
     ]
    },
    "bcd733bb7f384e408f2cdbb9faded3cf": {
     "views": [
      {
       "cell_index": 17
      }
     ]
    },
    "e461a51665f14cc0826387edfea6956a": {
     "views": []
    }
   },
   "version": "1.1.2"
  }
 },
 "nbformat": 4,
 "nbformat_minor": 0
}
